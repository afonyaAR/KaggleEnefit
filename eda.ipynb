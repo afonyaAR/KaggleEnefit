{
 "cells": [
  {
   "cell_type": "code",
   "execution_count": 1,
   "metadata": {},
   "outputs": [],
   "source": [
    "import pandas as pd"
   ]
  },
  {
   "cell_type": "code",
   "execution_count": 3,
   "metadata": {},
   "outputs": [],
   "source": [
    "def save_csv_for_mathematica(df: pd.DataFrame, name: str):\n",
    "    df.to_csv(f\"data_for_mathematica/{name}.csv\")"
   ]
  },
  {
   "cell_type": "code",
   "execution_count": 4,
   "metadata": {},
   "outputs": [
    {
     "name": "stderr",
     "output_type": "stream",
     "text": [
      "C:\\Users\\Анна\\AppData\\Local\\Temp\\ipykernel_660\\4239880846.py:5: FutureWarning: 'M' is deprecated and will be removed in a future version, please use 'ME' instead.\n",
      "  monthlyCons = consumption.groupby(pd.Grouper(key=\"datetime\", freq='M')).mean()\n"
     ]
    }
   ],
   "source": [
    "enefit = pd.read_csv(\"EnefitAPI/train.csv\")\n",
    "enefit[\"datetime\"] = pd.to_datetime(enefit[\"datetime\"])\n",
    "\n",
    "consumption = enefit[enefit[\"is_consumption\"]==1]\n",
    "monthlyCons = consumption.groupby(pd.Grouper(key=\"datetime\", freq='M')).mean() \n",
    "weeklyCons = consumption.groupby(pd.Grouper(key=\"datetime\", freq='W')).mean() \n",
    "dailyCons = consumption.groupby(pd.Grouper(key=\"datetime\", freq='D')).mean() \n",
    "meanConsumption = consumption.target.mean()\n",
    "\n",
    "# save_csv_for_mathematica(dailyCons.target, \"daily_consumption_train\")"
   ]
  },
  {
   "cell_type": "code",
   "execution_count": 26,
   "metadata": {},
   "outputs": [],
   "source": [
    "production = enefit[enefit[\"is_consumption\"]==0]\n",
    "dailyProd = production.groupby(pd.Grouper(key=\"datetime\", freq='D')).mean() \n",
    "meanProduction = production.target.mean()\n",
    "\n",
    "# save_csv_for_mathematica(dailyProd.target, \"daily_production_train\")"
   ]
  },
  {
   "cell_type": "code",
   "execution_count": 24,
   "metadata": {},
   "outputs": [
    {
     "data": {
      "text/plain": [
       "745.3075264179948"
      ]
     },
     "execution_count": 24,
     "metadata": {},
     "output_type": "execute_result"
    }
   ],
   "source": [
    "business = enefit.query(\"is_business == 1 & is_consumption == 1\")\n",
    "businessDailyCons = business.groupby(pd.Grouper(key=\"datetime\", freq=\"D\")).mean()\n",
    "businessDailyCons.target.mean()\n",
    "\n",
    "# save_csv_for_mathematica(businessDailyCons.target, \"business_consumption_train\")"
   ]
  },
  {
   "cell_type": "code",
   "execution_count": 29,
   "metadata": {},
   "outputs": [
    {
     "data": {
      "text/plain": [
       "5.707557127184041"
      ]
     },
     "execution_count": 29,
     "metadata": {},
     "output_type": "execute_result"
    }
   ],
   "source": [
    "weather = pd.read_csv(\"../../EnefitBigData/historical_weather.csv\")\n",
    "weather[\"datetime\"] = pd.to_datetime(weather[\"datetime\"])\n",
    "temperatureValues = weather.groupby(pd.Grouper(key=\"datetime\", freq=\"D\")).mean()\n",
    "temperatureValues.temperature.mean()\n",
    "\n",
    "save_csv_for_mathematica(temperatureValues.temperature, \"temperature\")"
   ]
  },
  {
   "cell_type": "code",
   "execution_count": 3,
   "metadata": {},
   "outputs": [
    {
     "name": "stdout",
     "output_type": "stream",
     "text": [
      "Lowest: 95.03675039246468\n",
      "Highest: 107.75463108320253\n"
     ]
    },
    {
     "data": {
      "text/html": [
       "<div>\n",
       "<style scoped>\n",
       "    .dataframe tbody tr th:only-of-type {\n",
       "        vertical-align: middle;\n",
       "    }\n",
       "\n",
       "    .dataframe tbody tr th {\n",
       "        vertical-align: top;\n",
       "    }\n",
       "\n",
       "    .dataframe thead th {\n",
       "        text-align: right;\n",
       "    }\n",
       "</style>\n",
       "<table border=\"1\" class=\"dataframe\">\n",
       "  <thead>\n",
       "    <tr style=\"text-align: right;\">\n",
       "      <th></th>\n",
       "      <th>lowest_price_per_mwh</th>\n",
       "      <th>highest_price_per_mwh</th>\n",
       "    </tr>\n",
       "    <tr>\n",
       "      <th>forecast_date</th>\n",
       "      <th></th>\n",
       "      <th></th>\n",
       "    </tr>\n",
       "  </thead>\n",
       "  <tbody>\n",
       "    <tr>\n",
       "      <th>2021-09-01</th>\n",
       "      <td>45.23</td>\n",
       "      <td>46.32</td>\n",
       "    </tr>\n",
       "    <tr>\n",
       "      <th>2021-09-02</th>\n",
       "      <td>45.62</td>\n",
       "      <td>46.29</td>\n",
       "    </tr>\n",
       "    <tr>\n",
       "      <th>2021-09-03</th>\n",
       "      <td>45.85</td>\n",
       "      <td>46.40</td>\n",
       "    </tr>\n",
       "    <tr>\n",
       "      <th>2021-09-04</th>\n",
       "      <td>46.30</td>\n",
       "      <td>46.80</td>\n",
       "    </tr>\n",
       "    <tr>\n",
       "      <th>2021-09-05</th>\n",
       "      <td>46.30</td>\n",
       "      <td>46.58</td>\n",
       "    </tr>\n",
       "    <tr>\n",
       "      <th>...</th>\n",
       "      <td>...</td>\n",
       "      <td>...</td>\n",
       "    </tr>\n",
       "    <tr>\n",
       "      <th>2023-05-26</th>\n",
       "      <td>29.10</td>\n",
       "      <td>34.10</td>\n",
       "    </tr>\n",
       "    <tr>\n",
       "      <th>2023-05-27</th>\n",
       "      <td>28.30</td>\n",
       "      <td>34.10</td>\n",
       "    </tr>\n",
       "    <tr>\n",
       "      <th>2023-05-28</th>\n",
       "      <td>28.10</td>\n",
       "      <td>34.10</td>\n",
       "    </tr>\n",
       "    <tr>\n",
       "      <th>2023-05-29</th>\n",
       "      <td>28.16</td>\n",
       "      <td>36.98</td>\n",
       "    </tr>\n",
       "    <tr>\n",
       "      <th>2023-05-30</th>\n",
       "      <td>29.00</td>\n",
       "      <td>34.00</td>\n",
       "    </tr>\n",
       "  </tbody>\n",
       "</table>\n",
       "<p>637 rows × 2 columns</p>\n",
       "</div>"
      ],
      "text/plain": [
       "               lowest_price_per_mwh  highest_price_per_mwh\n",
       "forecast_date                                             \n",
       "2021-09-01                    45.23                  46.32\n",
       "2021-09-02                    45.62                  46.29\n",
       "2021-09-03                    45.85                  46.40\n",
       "2021-09-04                    46.30                  46.80\n",
       "2021-09-05                    46.30                  46.58\n",
       "...                             ...                    ...\n",
       "2023-05-26                    29.10                  34.10\n",
       "2023-05-27                    28.30                  34.10\n",
       "2023-05-28                    28.10                  34.10\n",
       "2023-05-29                    28.16                  36.98\n",
       "2023-05-30                    29.00                  34.00\n",
       "\n",
       "[637 rows x 2 columns]"
      ]
     },
     "execution_count": 3,
     "metadata": {},
     "output_type": "execute_result"
    }
   ],
   "source": [
    "gas = pd.read_csv(\"EnefitAPI/gas_prices.csv\")\n",
    "gas.drop([\"origin_date\"], inplace=True, axis=1)\n",
    "gas[\"forecast_date\"] = pd.to_datetime(gas[\"forecast_date\"])\n",
    "gasValues = gas.groupby(pd.Grouper(key=\"forecast_date\", freq=\"D\")).mean()\n",
    "gasValues = gasValues[[\"lowest_price_per_mwh\",\"highest_price_per_mwh\"]]\n",
    "print(\"Lowest: \" + str(gasValues.lowest_price_per_mwh.mean()))\n",
    "print(\"Highest: \" + str(gasValues.highest_price_per_mwh.mean()))\n",
    "gasValues\n",
    "# save_csv_for_mathematica(gasValues, \"Lowest_Highest_price_per_mwh\")\n"
   ]
  },
  {
   "cell_type": "code",
   "execution_count": null,
   "metadata": {},
   "outputs": [],
   "source": []
  }
 ],
 "metadata": {
  "kernelspec": {
   "display_name": "Python 3",
   "language": "python",
   "name": "python3"
  },
  "language_info": {
   "codemirror_mode": {
    "name": "ipython",
    "version": 3
   },
   "file_extension": ".py",
   "mimetype": "text/x-python",
   "name": "python",
   "nbconvert_exporter": "python",
   "pygments_lexer": "ipython3",
   "version": "3.11.9"
  }
 },
 "nbformat": 4,
 "nbformat_minor": 2
}
