{
 "cells": [
  {
   "cell_type": "code",
   "execution_count": 1,
   "metadata": {},
   "outputs": [],
   "source": [
    "import pandas as pd"
   ]
  },
  {
   "cell_type": "code",
   "execution_count": 10,
   "metadata": {},
   "outputs": [],
   "source": [
    "def save_csv_for_mathematica(df: pd.DataFrame, name: str):\n",
    "    df.to_csv(f\"data_for_mathematica/{name}.csv\")"
   ]
  },
  {
   "cell_type": "code",
   "execution_count": 13,
   "metadata": {},
   "outputs": [],
   "source": [
    "enefit = pd.read_csv(\"EnefitAPI/train.csv\")\n",
    "enefit[\"datetime\"] = pd.to_datetime(enefit[\"datetime\"])\n",
    "\n",
    "consumption = enefit[enefit[\"is_consumption\"]==1]\n",
    "monthlyCons = consumption.groupby(pd.Grouper(key=\"datetime\", freq='M')).mean() \n",
    "weeklyCons = consumption.groupby(pd.Grouper(key=\"datetime\", freq='W')).mean() \n",
    "dailyCons = consumption.groupby(pd.Grouper(key=\"datetime\", freq='D')).mean() \n",
    "meanConsumption = consumption.target.mean()\n",
    "\n",
    "save_csv_for_mathematica(dailyCons.target, \"daily_consumption_train\")"
   ]
  },
  {
   "cell_type": "code",
   "execution_count": 18,
   "metadata": {},
   "outputs": [],
   "source": [
    "production = enefit[enefit[\"is_consumption\"]==0]\n",
    "monthlyProd = production.groupby(pd.Grouper(key=\"datetime\", freq='M')).mean() \n",
    "weeklyProd = production.groupby(pd.Grouper(key=\"datetime\", freq='W')).mean() \n",
    "dailyProd = production.groupby(pd.Grouper(key=\"datetime\", freq='D')).mean() \n",
    "meanProduction = production.target.mean()\n",
    "\n",
    "save_csv_for_mathematica(dailyProd.target, \"daily_production_train\")"
   ]
  },
  {
   "cell_type": "code",
   "execution_count": 23,
   "metadata": {},
   "outputs": [
    {
     "data": {
      "text/plain": [
       "371.74565476414983"
      ]
     },
     "execution_count": 23,
     "metadata": {},
     "output_type": "execute_result"
    }
   ],
   "source": [
    "(dailyCons[\"target\"]-dailyProd[\"target\"]).mean()"
   ]
  }
 ],
 "metadata": {
  "kernelspec": {
   "display_name": "Python 3",
   "language": "python",
   "name": "python3"
  },
  "language_info": {
   "codemirror_mode": {
    "name": "ipython",
    "version": 3
   },
   "file_extension": ".py",
   "mimetype": "text/x-python",
   "name": "python",
   "nbconvert_exporter": "python",
   "pygments_lexer": "ipython3",
   "version": "3.10.4"
  }
 },
 "nbformat": 4,
 "nbformat_minor": 2
}
