{
 "cells": [
  {
   "cell_type": "code",
   "execution_count": 1,
   "metadata": {},
   "outputs": [],
   "source": [
    "import pandas as pd\n",
    "import plotly.express as px"
   ]
  },
  {
   "cell_type": "code",
   "execution_count": 2,
   "metadata": {},
   "outputs": [],
   "source": [
    "df_train = pd.read_csv('EnefitAPI/train.csv')\n",
    "df_train['datetime'] = df_train['datetime'].astype('datetime64[ns]')\n",
    "df_weather_station_to_county_mapping = pd.read_csv('EnefitAPI/weather_station_to_county_mapping.csv')\n",
    "df_gas_prices = pd.read_csv('EnefitAPI/gas_prices.csv')\n",
    "df_client = pd.read_csv('EnefitAPI/client.csv')\n",
    "df_elec_prices = pd.read_csv('EnefitAPI/electricity_prices.csv')\n",
    "df_forecast_weather = pd.read_csv('../../EnefitBigData/forecast_weather.csv')\n",
    "df_historical_weather = pd.read_csv('../../EnefitBigData/historical_weather.csv')\n",
    "wscm = pd.read_csv(f'EnefitAPI/weather_station_to_county_mapping.csv')\n"
   ]
  },
  {
   "cell_type": "code",
   "execution_count": 4,
   "metadata": {},
   "outputs": [
    {
     "data": {
      "application/vnd.plotly.v1+json": {
       "config": {
        "plotlyServerURL": "https://plot.ly"
       },
       "data": [
        {
         "hovertemplate": "size=%{marker.size}<br>latitude=%{lat}<br>longitude=%{lon}<br>county=%{marker.color}<extra></extra>",
         "lat": [
          57.6,
          57.9,
          58.2,
          58.49999999999999,
          58.79999999999999,
          59.09999999999999,
          59.399999999999984,
          59.69999999999998,
          57.6,
          57.9,
          58.2,
          58.49999999999999,
          58.79999999999999,
          59.09999999999999,
          59.399999999999984,
          59.69999999999998,
          57.6,
          57.9,
          58.2,
          58.49999999999999,
          58.79999999999999,
          59.09999999999999,
          59.399999999999984,
          59.69999999999998,
          57.6,
          57.9,
          58.2,
          58.49999999999999,
          58.79999999999999,
          59.09999999999999,
          59.399999999999984,
          59.69999999999998,
          57.6,
          57.9,
          58.2,
          58.49999999999999,
          58.79999999999999,
          59.09999999999999,
          59.399999999999984,
          59.69999999999998,
          57.6,
          57.9,
          58.2,
          58.49999999999999,
          58.79999999999999,
          59.09999999999999,
          59.399999999999984,
          59.69999999999998,
          57.6,
          57.9,
          58.2,
          58.49999999999999,
          58.79999999999999,
          59.09999999999999,
          59.399999999999984,
          59.69999999999998,
          57.6,
          57.9,
          58.2,
          58.49999999999999,
          58.79999999999999,
          59.09999999999999,
          59.399999999999984,
          59.69999999999998,
          57.6,
          57.9,
          58.2,
          58.49999999999999,
          58.79999999999999,
          59.09999999999999,
          59.399999999999984,
          59.69999999999998,
          57.6,
          57.9,
          58.2,
          58.49999999999999,
          58.79999999999999,
          59.09999999999999,
          59.399999999999984,
          59.69999999999998,
          57.6,
          57.9,
          58.2,
          58.49999999999999,
          58.79999999999999,
          59.09999999999999,
          59.399999999999984,
          59.69999999999998,
          57.6,
          57.9,
          58.2,
          58.49999999999999,
          58.79999999999999,
          59.09999999999999,
          59.399999999999984,
          59.69999999999998,
          57.6,
          57.9,
          58.2,
          58.49999999999999,
          58.79999999999999,
          59.09999999999999,
          59.399999999999984,
          59.69999999999998,
          57.6,
          57.9,
          58.2,
          58.49999999999999,
          58.79999999999999,
          59.09999999999999,
          59.399999999999984,
          59.69999999999998
         ],
         "legendgroup": "",
         "lon": [
          21.7,
          21.7,
          21.7,
          21.7,
          21.7,
          21.7,
          21.7,
          21.7,
          22.2,
          22.2,
          22.2,
          22.2,
          22.2,
          22.2,
          22.2,
          22.2,
          22.7,
          22.7,
          22.7,
          22.7,
          22.7,
          22.7,
          22.7,
          22.7,
          23.2,
          23.2,
          23.2,
          23.2,
          23.2,
          23.2,
          23.2,
          23.2,
          23.7,
          23.7,
          23.7,
          23.7,
          23.7,
          23.7,
          23.7,
          23.7,
          24.2,
          24.2,
          24.2,
          24.2,
          24.2,
          24.2,
          24.2,
          24.2,
          24.7,
          24.7,
          24.7,
          24.7,
          24.7,
          24.7,
          24.7,
          24.7,
          25.2,
          25.2,
          25.2,
          25.2,
          25.2,
          25.2,
          25.2,
          25.2,
          25.7,
          25.7,
          25.7,
          25.7,
          25.7,
          25.7,
          25.7,
          25.7,
          26.2,
          26.2,
          26.2,
          26.2,
          26.2,
          26.2,
          26.2,
          26.2,
          26.7,
          26.7,
          26.7,
          26.7,
          26.7,
          26.7,
          26.7,
          26.7,
          27.2,
          27.2,
          27.2,
          27.2,
          27.2,
          27.2,
          27.2,
          27.2,
          27.7,
          27.7,
          27.7,
          27.7,
          27.7,
          27.7,
          27.7,
          27.7,
          28.2,
          28.2,
          28.2,
          28.2,
          28.2,
          28.2,
          28.2,
          28.2
         ],
         "marker": {
          "color": [
           null,
           null,
           null,
           null,
           null,
           null,
           null,
           null,
           null,
           null,
           10,
           10,
           null,
           null,
           null,
           null,
           null,
           null,
           null,
           10,
           1,
           null,
           null,
           null,
           null,
           null,
           null,
           10,
           null,
           null,
           null,
           null,
           null,
           null,
           null,
           7,
           6,
           6,
           null,
           null,
           null,
           null,
           null,
           7,
           9,
           0,
           0,
           null,
           null,
           null,
           7,
           7,
           9,
           9,
           0,
           null,
           null,
           null,
           7,
           14,
           3,
           0,
           0,
           null,
           null,
           null,
           14,
           14,
           3,
           3,
           0,
           null,
           null,
           13,
           11,
           4,
           4,
           5,
           5,
           null,
           15,
           15,
           11,
           11,
           4,
           5,
           5,
           null,
           15,
           15,
           8,
           11,
           null,
           2,
           2,
           null,
           null,
           15,
           null,
           null,
           null,
           2,
           2,
           null,
           null,
           null,
           null,
           null,
           null,
           null,
           null,
           null
          ],
          "coloraxis": "coloraxis",
          "size": [
           5,
           5,
           5,
           5,
           5,
           5,
           5,
           5,
           5,
           5,
           5,
           5,
           5,
           5,
           5,
           5,
           5,
           5,
           5,
           5,
           5,
           5,
           5,
           5,
           5,
           5,
           5,
           5,
           5,
           5,
           5,
           5,
           5,
           5,
           5,
           5,
           5,
           5,
           5,
           5,
           5,
           5,
           5,
           5,
           5,
           5,
           5,
           5,
           5,
           5,
           5,
           5,
           5,
           5,
           5,
           5,
           5,
           5,
           5,
           5,
           5,
           5,
           5,
           5,
           5,
           5,
           5,
           5,
           5,
           5,
           5,
           5,
           5,
           5,
           5,
           5,
           5,
           5,
           5,
           5,
           5,
           5,
           5,
           5,
           5,
           5,
           5,
           5,
           5,
           5,
           5,
           5,
           5,
           5,
           5,
           5,
           5,
           5,
           5,
           5,
           5,
           5,
           5,
           5,
           5,
           5,
           5,
           5,
           5,
           5,
           5,
           5
          ],
          "sizemode": "area",
          "sizeref": 0.0125
         },
         "mode": "markers",
         "name": "",
         "showlegend": false,
         "subplot": "mapbox",
         "type": "scattermapbox"
        }
       ],
       "layout": {
        "coloraxis": {
         "colorbar": {
          "title": {
           "text": "county"
          }
         },
         "colorscale": [
          [
           0,
           "#0d0887"
          ],
          [
           0.1111111111111111,
           "#46039f"
          ],
          [
           0.2222222222222222,
           "#7201a8"
          ],
          [
           0.3333333333333333,
           "#9c179e"
          ],
          [
           0.4444444444444444,
           "#bd3786"
          ],
          [
           0.5555555555555556,
           "#d8576b"
          ],
          [
           0.6666666666666666,
           "#ed7953"
          ],
          [
           0.7777777777777778,
           "#fb9f3a"
          ],
          [
           0.8888888888888888,
           "#fdca26"
          ],
          [
           1,
           "#f0f921"
          ]
         ]
        },
        "height": 600,
        "legend": {
         "itemsizing": "constant",
         "tracegroupgap": 0
        },
        "mapbox": {
         "center": {
          "lat": 58.64999999999999,
          "lon": 24.949999999999992
         },
         "domain": {
          "x": [
           0,
           1
          ],
          "y": [
           0,
           1
          ]
         },
         "style": "open-street-map",
         "zoom": 6
        },
        "margin": {
         "b": 0,
         "l": 0,
         "r": 0,
         "t": 30
        },
        "template": {
         "data": {
          "bar": [
           {
            "error_x": {
             "color": "#2a3f5f"
            },
            "error_y": {
             "color": "#2a3f5f"
            },
            "marker": {
             "line": {
              "color": "#E5ECF6",
              "width": 0.5
             },
             "pattern": {
              "fillmode": "overlay",
              "size": 10,
              "solidity": 0.2
             }
            },
            "type": "bar"
           }
          ],
          "barpolar": [
           {
            "marker": {
             "line": {
              "color": "#E5ECF6",
              "width": 0.5
             },
             "pattern": {
              "fillmode": "overlay",
              "size": 10,
              "solidity": 0.2
             }
            },
            "type": "barpolar"
           }
          ],
          "carpet": [
           {
            "aaxis": {
             "endlinecolor": "#2a3f5f",
             "gridcolor": "white",
             "linecolor": "white",
             "minorgridcolor": "white",
             "startlinecolor": "#2a3f5f"
            },
            "baxis": {
             "endlinecolor": "#2a3f5f",
             "gridcolor": "white",
             "linecolor": "white",
             "minorgridcolor": "white",
             "startlinecolor": "#2a3f5f"
            },
            "type": "carpet"
           }
          ],
          "choropleth": [
           {
            "colorbar": {
             "outlinewidth": 0,
             "ticks": ""
            },
            "type": "choropleth"
           }
          ],
          "contour": [
           {
            "colorbar": {
             "outlinewidth": 0,
             "ticks": ""
            },
            "colorscale": [
             [
              0,
              "#0d0887"
             ],
             [
              0.1111111111111111,
              "#46039f"
             ],
             [
              0.2222222222222222,
              "#7201a8"
             ],
             [
              0.3333333333333333,
              "#9c179e"
             ],
             [
              0.4444444444444444,
              "#bd3786"
             ],
             [
              0.5555555555555556,
              "#d8576b"
             ],
             [
              0.6666666666666666,
              "#ed7953"
             ],
             [
              0.7777777777777778,
              "#fb9f3a"
             ],
             [
              0.8888888888888888,
              "#fdca26"
             ],
             [
              1,
              "#f0f921"
             ]
            ],
            "type": "contour"
           }
          ],
          "contourcarpet": [
           {
            "colorbar": {
             "outlinewidth": 0,
             "ticks": ""
            },
            "type": "contourcarpet"
           }
          ],
          "heatmap": [
           {
            "colorbar": {
             "outlinewidth": 0,
             "ticks": ""
            },
            "colorscale": [
             [
              0,
              "#0d0887"
             ],
             [
              0.1111111111111111,
              "#46039f"
             ],
             [
              0.2222222222222222,
              "#7201a8"
             ],
             [
              0.3333333333333333,
              "#9c179e"
             ],
             [
              0.4444444444444444,
              "#bd3786"
             ],
             [
              0.5555555555555556,
              "#d8576b"
             ],
             [
              0.6666666666666666,
              "#ed7953"
             ],
             [
              0.7777777777777778,
              "#fb9f3a"
             ],
             [
              0.8888888888888888,
              "#fdca26"
             ],
             [
              1,
              "#f0f921"
             ]
            ],
            "type": "heatmap"
           }
          ],
          "heatmapgl": [
           {
            "colorbar": {
             "outlinewidth": 0,
             "ticks": ""
            },
            "colorscale": [
             [
              0,
              "#0d0887"
             ],
             [
              0.1111111111111111,
              "#46039f"
             ],
             [
              0.2222222222222222,
              "#7201a8"
             ],
             [
              0.3333333333333333,
              "#9c179e"
             ],
             [
              0.4444444444444444,
              "#bd3786"
             ],
             [
              0.5555555555555556,
              "#d8576b"
             ],
             [
              0.6666666666666666,
              "#ed7953"
             ],
             [
              0.7777777777777778,
              "#fb9f3a"
             ],
             [
              0.8888888888888888,
              "#fdca26"
             ],
             [
              1,
              "#f0f921"
             ]
            ],
            "type": "heatmapgl"
           }
          ],
          "histogram": [
           {
            "marker": {
             "pattern": {
              "fillmode": "overlay",
              "size": 10,
              "solidity": 0.2
             }
            },
            "type": "histogram"
           }
          ],
          "histogram2d": [
           {
            "colorbar": {
             "outlinewidth": 0,
             "ticks": ""
            },
            "colorscale": [
             [
              0,
              "#0d0887"
             ],
             [
              0.1111111111111111,
              "#46039f"
             ],
             [
              0.2222222222222222,
              "#7201a8"
             ],
             [
              0.3333333333333333,
              "#9c179e"
             ],
             [
              0.4444444444444444,
              "#bd3786"
             ],
             [
              0.5555555555555556,
              "#d8576b"
             ],
             [
              0.6666666666666666,
              "#ed7953"
             ],
             [
              0.7777777777777778,
              "#fb9f3a"
             ],
             [
              0.8888888888888888,
              "#fdca26"
             ],
             [
              1,
              "#f0f921"
             ]
            ],
            "type": "histogram2d"
           }
          ],
          "histogram2dcontour": [
           {
            "colorbar": {
             "outlinewidth": 0,
             "ticks": ""
            },
            "colorscale": [
             [
              0,
              "#0d0887"
             ],
             [
              0.1111111111111111,
              "#46039f"
             ],
             [
              0.2222222222222222,
              "#7201a8"
             ],
             [
              0.3333333333333333,
              "#9c179e"
             ],
             [
              0.4444444444444444,
              "#bd3786"
             ],
             [
              0.5555555555555556,
              "#d8576b"
             ],
             [
              0.6666666666666666,
              "#ed7953"
             ],
             [
              0.7777777777777778,
              "#fb9f3a"
             ],
             [
              0.8888888888888888,
              "#fdca26"
             ],
             [
              1,
              "#f0f921"
             ]
            ],
            "type": "histogram2dcontour"
           }
          ],
          "mesh3d": [
           {
            "colorbar": {
             "outlinewidth": 0,
             "ticks": ""
            },
            "type": "mesh3d"
           }
          ],
          "parcoords": [
           {
            "line": {
             "colorbar": {
              "outlinewidth": 0,
              "ticks": ""
             }
            },
            "type": "parcoords"
           }
          ],
          "pie": [
           {
            "automargin": true,
            "type": "pie"
           }
          ],
          "scatter": [
           {
            "fillpattern": {
             "fillmode": "overlay",
             "size": 10,
             "solidity": 0.2
            },
            "type": "scatter"
           }
          ],
          "scatter3d": [
           {
            "line": {
             "colorbar": {
              "outlinewidth": 0,
              "ticks": ""
             }
            },
            "marker": {
             "colorbar": {
              "outlinewidth": 0,
              "ticks": ""
             }
            },
            "type": "scatter3d"
           }
          ],
          "scattercarpet": [
           {
            "marker": {
             "colorbar": {
              "outlinewidth": 0,
              "ticks": ""
             }
            },
            "type": "scattercarpet"
           }
          ],
          "scattergeo": [
           {
            "marker": {
             "colorbar": {
              "outlinewidth": 0,
              "ticks": ""
             }
            },
            "type": "scattergeo"
           }
          ],
          "scattergl": [
           {
            "marker": {
             "colorbar": {
              "outlinewidth": 0,
              "ticks": ""
             }
            },
            "type": "scattergl"
           }
          ],
          "scattermapbox": [
           {
            "marker": {
             "colorbar": {
              "outlinewidth": 0,
              "ticks": ""
             }
            },
            "type": "scattermapbox"
           }
          ],
          "scatterpolar": [
           {
            "marker": {
             "colorbar": {
              "outlinewidth": 0,
              "ticks": ""
             }
            },
            "type": "scatterpolar"
           }
          ],
          "scatterpolargl": [
           {
            "marker": {
             "colorbar": {
              "outlinewidth": 0,
              "ticks": ""
             }
            },
            "type": "scatterpolargl"
           }
          ],
          "scatterternary": [
           {
            "marker": {
             "colorbar": {
              "outlinewidth": 0,
              "ticks": ""
             }
            },
            "type": "scatterternary"
           }
          ],
          "surface": [
           {
            "colorbar": {
             "outlinewidth": 0,
             "ticks": ""
            },
            "colorscale": [
             [
              0,
              "#0d0887"
             ],
             [
              0.1111111111111111,
              "#46039f"
             ],
             [
              0.2222222222222222,
              "#7201a8"
             ],
             [
              0.3333333333333333,
              "#9c179e"
             ],
             [
              0.4444444444444444,
              "#bd3786"
             ],
             [
              0.5555555555555556,
              "#d8576b"
             ],
             [
              0.6666666666666666,
              "#ed7953"
             ],
             [
              0.7777777777777778,
              "#fb9f3a"
             ],
             [
              0.8888888888888888,
              "#fdca26"
             ],
             [
              1,
              "#f0f921"
             ]
            ],
            "type": "surface"
           }
          ],
          "table": [
           {
            "cells": {
             "fill": {
              "color": "#EBF0F8"
             },
             "line": {
              "color": "white"
             }
            },
            "header": {
             "fill": {
              "color": "#C8D4E3"
             },
             "line": {
              "color": "white"
             }
            },
            "type": "table"
           }
          ]
         },
         "layout": {
          "annotationdefaults": {
           "arrowcolor": "#2a3f5f",
           "arrowhead": 0,
           "arrowwidth": 1
          },
          "autotypenumbers": "strict",
          "coloraxis": {
           "colorbar": {
            "outlinewidth": 0,
            "ticks": ""
           }
          },
          "colorscale": {
           "diverging": [
            [
             0,
             "#8e0152"
            ],
            [
             0.1,
             "#c51b7d"
            ],
            [
             0.2,
             "#de77ae"
            ],
            [
             0.3,
             "#f1b6da"
            ],
            [
             0.4,
             "#fde0ef"
            ],
            [
             0.5,
             "#f7f7f7"
            ],
            [
             0.6,
             "#e6f5d0"
            ],
            [
             0.7,
             "#b8e186"
            ],
            [
             0.8,
             "#7fbc41"
            ],
            [
             0.9,
             "#4d9221"
            ],
            [
             1,
             "#276419"
            ]
           ],
           "sequential": [
            [
             0,
             "#0d0887"
            ],
            [
             0.1111111111111111,
             "#46039f"
            ],
            [
             0.2222222222222222,
             "#7201a8"
            ],
            [
             0.3333333333333333,
             "#9c179e"
            ],
            [
             0.4444444444444444,
             "#bd3786"
            ],
            [
             0.5555555555555556,
             "#d8576b"
            ],
            [
             0.6666666666666666,
             "#ed7953"
            ],
            [
             0.7777777777777778,
             "#fb9f3a"
            ],
            [
             0.8888888888888888,
             "#fdca26"
            ],
            [
             1,
             "#f0f921"
            ]
           ],
           "sequentialminus": [
            [
             0,
             "#0d0887"
            ],
            [
             0.1111111111111111,
             "#46039f"
            ],
            [
             0.2222222222222222,
             "#7201a8"
            ],
            [
             0.3333333333333333,
             "#9c179e"
            ],
            [
             0.4444444444444444,
             "#bd3786"
            ],
            [
             0.5555555555555556,
             "#d8576b"
            ],
            [
             0.6666666666666666,
             "#ed7953"
            ],
            [
             0.7777777777777778,
             "#fb9f3a"
            ],
            [
             0.8888888888888888,
             "#fdca26"
            ],
            [
             1,
             "#f0f921"
            ]
           ]
          },
          "colorway": [
           "#636efa",
           "#EF553B",
           "#00cc96",
           "#ab63fa",
           "#FFA15A",
           "#19d3f3",
           "#FF6692",
           "#B6E880",
           "#FF97FF",
           "#FECB52"
          ],
          "font": {
           "color": "#2a3f5f"
          },
          "geo": {
           "bgcolor": "white",
           "lakecolor": "white",
           "landcolor": "#E5ECF6",
           "showlakes": true,
           "showland": true,
           "subunitcolor": "white"
          },
          "hoverlabel": {
           "align": "left"
          },
          "hovermode": "closest",
          "mapbox": {
           "style": "light"
          },
          "paper_bgcolor": "white",
          "plot_bgcolor": "#E5ECF6",
          "polar": {
           "angularaxis": {
            "gridcolor": "white",
            "linecolor": "white",
            "ticks": ""
           },
           "bgcolor": "#E5ECF6",
           "radialaxis": {
            "gridcolor": "white",
            "linecolor": "white",
            "ticks": ""
           }
          },
          "scene": {
           "xaxis": {
            "backgroundcolor": "#E5ECF6",
            "gridcolor": "white",
            "gridwidth": 2,
            "linecolor": "white",
            "showbackground": true,
            "ticks": "",
            "zerolinecolor": "white"
           },
           "yaxis": {
            "backgroundcolor": "#E5ECF6",
            "gridcolor": "white",
            "gridwidth": 2,
            "linecolor": "white",
            "showbackground": true,
            "ticks": "",
            "zerolinecolor": "white"
           },
           "zaxis": {
            "backgroundcolor": "#E5ECF6",
            "gridcolor": "white",
            "gridwidth": 2,
            "linecolor": "white",
            "showbackground": true,
            "ticks": "",
            "zerolinecolor": "white"
           }
          },
          "shapedefaults": {
           "line": {
            "color": "#2a3f5f"
           }
          },
          "ternary": {
           "aaxis": {
            "gridcolor": "white",
            "linecolor": "white",
            "ticks": ""
           },
           "baxis": {
            "gridcolor": "white",
            "linecolor": "white",
            "ticks": ""
           },
           "bgcolor": "#E5ECF6",
           "caxis": {
            "gridcolor": "white",
            "linecolor": "white",
            "ticks": ""
           }
          },
          "title": {
           "x": 0.05
          },
          "xaxis": {
           "automargin": true,
           "gridcolor": "white",
           "linecolor": "white",
           "ticks": "",
           "title": {
            "standoff": 15
           },
           "zerolinecolor": "white",
           "zerolinewidth": 2
          },
          "yaxis": {
           "automargin": true,
           "gridcolor": "white",
           "linecolor": "white",
           "ticks": "",
           "title": {
            "standoff": 15
           },
           "zerolinecolor": "white",
           "zerolinewidth": 2
          }
         }
        },
        "title": {
         "text": "Weather Stations Locations"
        },
        "width": 1000
       }
      }
     },
     "metadata": {},
     "output_type": "display_data"
    }
   ],
   "source": [
    "df_weather_station_to_county_mapping['size'] = 5\n",
    "\n",
    "fig = px.scatter_mapbox(\n",
    "    df_weather_station_to_county_mapping, \n",
    "    lat=\"latitude\", \n",
    "    lon=\"longitude\", \n",
    "    color=\"county\",\n",
    "    size='size',\n",
    "    zoom=6,\n",
    "    title='Weather Stations Locations',\n",
    "    width=1000,\n",
    "    height=600\n",
    ")\n",
    "\n",
    "fig.update_layout(mapbox_style=\"open-street-map\")\n",
    "fig.update_layout(margin={\"r\":0,\"t\":30,\"l\":0,\"b\":0})\n",
    "fig.show()"
   ]
  },
  {
   "cell_type": "code",
   "execution_count": 4,
   "metadata": {},
   "outputs": [
    {
     "name": "stdout",
     "output_type": "stream",
     "text": [
      "county                  0\n",
      "is_business             0\n",
      "product_type            0\n",
      "target                528\n",
      "is_consumption          0\n",
      "datetime                0\n",
      "data_block_id           0\n",
      "row_id                  0\n",
      "prediction_unit_id      0\n",
      "dtype: int64 \n",
      "\n",
      "missing values len: 528\n",
      "missing datetime: [numpy.datetime64('2021-10-31T03:00:00.000000000'), numpy.datetime64('2022-03-27T03:00:00.000000000'), numpy.datetime64('2022-10-30T03:00:00.000000000'), numpy.datetime64('2023-03-26T03:00:00.000000000')]\n"
     ]
    }
   ],
   "source": [
    "print(df_train.isna().sum(), \"\\n\")\n",
    "missing = df_train[df_train['target'].isna()==True]['datetime']\n",
    "print(\"missing values len: %s\" %(len(missing)))\n",
    "print(\"missing datetime: %s\" %(list(missing.unique())))"
   ]
  },
  {
   "cell_type": "code",
   "execution_count": 5,
   "metadata": {},
   "outputs": [
    {
     "data": {
      "text/plain": [
       "(1008912, 1008912)"
      ]
     },
     "execution_count": 5,
     "metadata": {},
     "output_type": "execute_result"
    }
   ],
   "source": [
    "train_dropna = df_train.dropna()\n",
    "con_train = train_dropna[train_dropna['is_consumption']==1]\n",
    "pro_train = train_dropna[train_dropna['is_consumption']==0]\n",
    "len(con_train), len(pro_train)"
   ]
  },
  {
   "cell_type": "code",
   "execution_count": 6,
   "metadata": {},
   "outputs": [
    {
     "data": {
      "text/html": [
       "<div>\n",
       "<style scoped>\n",
       "    .dataframe tbody tr th:only-of-type {\n",
       "        vertical-align: middle;\n",
       "    }\n",
       "\n",
       "    .dataframe tbody tr th {\n",
       "        vertical-align: top;\n",
       "    }\n",
       "\n",
       "    .dataframe thead th {\n",
       "        text-align: right;\n",
       "    }\n",
       "</style>\n",
       "<table border=\"1\" class=\"dataframe\">\n",
       "  <thead>\n",
       "    <tr style=\"text-align: right;\">\n",
       "      <th></th>\n",
       "      <th>latitude</th>\n",
       "      <th>longitude</th>\n",
       "      <th>origin_datetime</th>\n",
       "      <th>hours_ahead</th>\n",
       "      <th>temperature</th>\n",
       "      <th>dewpoint</th>\n",
       "      <th>cloudcover_high</th>\n",
       "      <th>cloudcover_low</th>\n",
       "      <th>cloudcover_mid</th>\n",
       "      <th>cloudcover_total</th>\n",
       "      <th>10_metre_u_wind_component</th>\n",
       "      <th>10_metre_v_wind_component</th>\n",
       "      <th>data_block_id</th>\n",
       "      <th>forecast_datetime</th>\n",
       "      <th>direct_solar_radiation</th>\n",
       "      <th>surface_solar_radiation_downwards</th>\n",
       "      <th>snowfall</th>\n",
       "      <th>total_precipitation</th>\n",
       "    </tr>\n",
       "  </thead>\n",
       "  <tbody>\n",
       "    <tr>\n",
       "      <th>0</th>\n",
       "      <td>57.6</td>\n",
       "      <td>21.7</td>\n",
       "      <td>2021-09-01 00:00:00+00:00</td>\n",
       "      <td>1</td>\n",
       "      <td>15.655786</td>\n",
       "      <td>11.553613</td>\n",
       "      <td>0.904816</td>\n",
       "      <td>0.019714</td>\n",
       "      <td>0.000000</td>\n",
       "      <td>0.905899</td>\n",
       "      <td>-0.411328</td>\n",
       "      <td>-9.106137</td>\n",
       "      <td>1</td>\n",
       "      <td>2021-09-01 01:00:00+00:00</td>\n",
       "      <td>0.0</td>\n",
       "      <td>0.0</td>\n",
       "      <td>0.0</td>\n",
       "      <td>0.0</td>\n",
       "    </tr>\n",
       "    <tr>\n",
       "      <th>1</th>\n",
       "      <td>57.6</td>\n",
       "      <td>22.2</td>\n",
       "      <td>2021-09-01 00:00:00+00:00</td>\n",
       "      <td>1</td>\n",
       "      <td>13.003931</td>\n",
       "      <td>10.689844</td>\n",
       "      <td>0.886322</td>\n",
       "      <td>0.004456</td>\n",
       "      <td>0.000000</td>\n",
       "      <td>0.886658</td>\n",
       "      <td>0.206347</td>\n",
       "      <td>-5.355405</td>\n",
       "      <td>1</td>\n",
       "      <td>2021-09-01 01:00:00+00:00</td>\n",
       "      <td>0.0</td>\n",
       "      <td>0.0</td>\n",
       "      <td>0.0</td>\n",
       "      <td>0.0</td>\n",
       "    </tr>\n",
       "    <tr>\n",
       "      <th>2</th>\n",
       "      <td>57.6</td>\n",
       "      <td>22.7</td>\n",
       "      <td>2021-09-01 00:00:00+00:00</td>\n",
       "      <td>1</td>\n",
       "      <td>14.206567</td>\n",
       "      <td>11.671777</td>\n",
       "      <td>0.729034</td>\n",
       "      <td>0.005615</td>\n",
       "      <td>0.000000</td>\n",
       "      <td>0.730499</td>\n",
       "      <td>1.451587</td>\n",
       "      <td>-7.417905</td>\n",
       "      <td>1</td>\n",
       "      <td>2021-09-01 01:00:00+00:00</td>\n",
       "      <td>0.0</td>\n",
       "      <td>0.0</td>\n",
       "      <td>0.0</td>\n",
       "      <td>0.0</td>\n",
       "    </tr>\n",
       "    <tr>\n",
       "      <th>3</th>\n",
       "      <td>57.6</td>\n",
       "      <td>23.2</td>\n",
       "      <td>2021-09-01 00:00:00+00:00</td>\n",
       "      <td>1</td>\n",
       "      <td>14.844507</td>\n",
       "      <td>12.264917</td>\n",
       "      <td>0.336304</td>\n",
       "      <td>0.074341</td>\n",
       "      <td>0.000626</td>\n",
       "      <td>0.385468</td>\n",
       "      <td>1.090869</td>\n",
       "      <td>-9.163999</td>\n",
       "      <td>1</td>\n",
       "      <td>2021-09-01 01:00:00+00:00</td>\n",
       "      <td>0.0</td>\n",
       "      <td>0.0</td>\n",
       "      <td>0.0</td>\n",
       "      <td>0.0</td>\n",
       "    </tr>\n",
       "    <tr>\n",
       "      <th>4</th>\n",
       "      <td>57.6</td>\n",
       "      <td>23.7</td>\n",
       "      <td>2021-09-01 00:00:00+00:00</td>\n",
       "      <td>1</td>\n",
       "      <td>15.293848</td>\n",
       "      <td>12.458887</td>\n",
       "      <td>0.102875</td>\n",
       "      <td>0.088074</td>\n",
       "      <td>0.000015</td>\n",
       "      <td>0.176590</td>\n",
       "      <td>1.268481</td>\n",
       "      <td>-8.975766</td>\n",
       "      <td>1</td>\n",
       "      <td>2021-09-01 01:00:00+00:00</td>\n",
       "      <td>0.0</td>\n",
       "      <td>0.0</td>\n",
       "      <td>0.0</td>\n",
       "      <td>0.0</td>\n",
       "    </tr>\n",
       "  </tbody>\n",
       "</table>\n",
       "</div>"
      ],
      "text/plain": [
       "   latitude  longitude            origin_datetime  hours_ahead  temperature  \\\n",
       "0      57.6       21.7  2021-09-01 00:00:00+00:00            1    15.655786   \n",
       "1      57.6       22.2  2021-09-01 00:00:00+00:00            1    13.003931   \n",
       "2      57.6       22.7  2021-09-01 00:00:00+00:00            1    14.206567   \n",
       "3      57.6       23.2  2021-09-01 00:00:00+00:00            1    14.844507   \n",
       "4      57.6       23.7  2021-09-01 00:00:00+00:00            1    15.293848   \n",
       "\n",
       "    dewpoint  cloudcover_high  cloudcover_low  cloudcover_mid  \\\n",
       "0  11.553613         0.904816        0.019714        0.000000   \n",
       "1  10.689844         0.886322        0.004456        0.000000   \n",
       "2  11.671777         0.729034        0.005615        0.000000   \n",
       "3  12.264917         0.336304        0.074341        0.000626   \n",
       "4  12.458887         0.102875        0.088074        0.000015   \n",
       "\n",
       "   cloudcover_total  10_metre_u_wind_component  10_metre_v_wind_component  \\\n",
       "0          0.905899                  -0.411328                  -9.106137   \n",
       "1          0.886658                   0.206347                  -5.355405   \n",
       "2          0.730499                   1.451587                  -7.417905   \n",
       "3          0.385468                   1.090869                  -9.163999   \n",
       "4          0.176590                   1.268481                  -8.975766   \n",
       "\n",
       "   data_block_id          forecast_datetime  direct_solar_radiation  \\\n",
       "0              1  2021-09-01 01:00:00+00:00                     0.0   \n",
       "1              1  2021-09-01 01:00:00+00:00                     0.0   \n",
       "2              1  2021-09-01 01:00:00+00:00                     0.0   \n",
       "3              1  2021-09-01 01:00:00+00:00                     0.0   \n",
       "4              1  2021-09-01 01:00:00+00:00                     0.0   \n",
       "\n",
       "   surface_solar_radiation_downwards  snowfall  total_precipitation  \n",
       "0                                0.0       0.0                  0.0  \n",
       "1                                0.0       0.0                  0.0  \n",
       "2                                0.0       0.0                  0.0  \n",
       "3                                0.0       0.0                  0.0  \n",
       "4                                0.0       0.0                  0.0  "
      ]
     },
     "execution_count": 6,
     "metadata": {},
     "output_type": "execute_result"
    }
   ],
   "source": [
    "df_forecast_weather.head(5)"
   ]
  },
  {
   "cell_type": "code",
   "execution_count": 27,
   "metadata": {},
   "outputs": [
    {
     "data": {
      "text/html": [
       "<div>\n",
       "<style scoped>\n",
       "    .dataframe tbody tr th:only-of-type {\n",
       "        vertical-align: middle;\n",
       "    }\n",
       "\n",
       "    .dataframe tbody tr th {\n",
       "        vertical-align: top;\n",
       "    }\n",
       "\n",
       "    .dataframe thead th {\n",
       "        text-align: right;\n",
       "    }\n",
       "</style>\n",
       "<table border=\"1\" class=\"dataframe\">\n",
       "  <thead>\n",
       "    <tr style=\"text-align: right;\">\n",
       "      <th></th>\n",
       "      <th>county</th>\n",
       "      <th>is_business</th>\n",
       "      <th>product_type</th>\n",
       "      <th>target</th>\n",
       "      <th>is_consumption</th>\n",
       "      <th>datetime</th>\n",
       "      <th>data_block_id</th>\n",
       "      <th>row_id</th>\n",
       "      <th>prediction_unit_id</th>\n",
       "      <th>lowest_price_per_mwh</th>\n",
       "      <th>...</th>\n",
       "      <th>cloudcover_high</th>\n",
       "      <th>cloudcover_low</th>\n",
       "      <th>cloudcover_mid</th>\n",
       "      <th>cloudcover_total</th>\n",
       "      <th>10_metre_u_wind_component</th>\n",
       "      <th>10_metre_v_wind_component</th>\n",
       "      <th>direct_solar_radiation</th>\n",
       "      <th>surface_solar_radiation_downwards</th>\n",
       "      <th>snowfall</th>\n",
       "      <th>total_precipitation</th>\n",
       "    </tr>\n",
       "  </thead>\n",
       "  <tbody>\n",
       "    <tr>\n",
       "      <th>0</th>\n",
       "      <td>0</td>\n",
       "      <td>0</td>\n",
       "      <td>1</td>\n",
       "      <td>0.713</td>\n",
       "      <td>0</td>\n",
       "      <td>2021-09-01</td>\n",
       "      <td>0</td>\n",
       "      <td>0</td>\n",
       "      <td>0</td>\n",
       "      <td>NaN</td>\n",
       "      <td>...</td>\n",
       "      <td>NaN</td>\n",
       "      <td>NaN</td>\n",
       "      <td>NaN</td>\n",
       "      <td>NaN</td>\n",
       "      <td>NaN</td>\n",
       "      <td>NaN</td>\n",
       "      <td>NaN</td>\n",
       "      <td>NaN</td>\n",
       "      <td>NaN</td>\n",
       "      <td>NaN</td>\n",
       "    </tr>\n",
       "    <tr>\n",
       "      <th>1</th>\n",
       "      <td>0</td>\n",
       "      <td>0</td>\n",
       "      <td>1</td>\n",
       "      <td>96.590</td>\n",
       "      <td>1</td>\n",
       "      <td>2021-09-01</td>\n",
       "      <td>0</td>\n",
       "      <td>1</td>\n",
       "      <td>0</td>\n",
       "      <td>NaN</td>\n",
       "      <td>...</td>\n",
       "      <td>NaN</td>\n",
       "      <td>NaN</td>\n",
       "      <td>NaN</td>\n",
       "      <td>NaN</td>\n",
       "      <td>NaN</td>\n",
       "      <td>NaN</td>\n",
       "      <td>NaN</td>\n",
       "      <td>NaN</td>\n",
       "      <td>NaN</td>\n",
       "      <td>NaN</td>\n",
       "    </tr>\n",
       "  </tbody>\n",
       "</table>\n",
       "<p>2 rows × 26 columns</p>\n",
       "</div>"
      ],
      "text/plain": [
       "   county  is_business  product_type  target  is_consumption   datetime  \\\n",
       "0       0            0             1   0.713               0 2021-09-01   \n",
       "1       0            0             1  96.590               1 2021-09-01   \n",
       "\n",
       "   data_block_id  row_id  prediction_unit_id  lowest_price_per_mwh  ...  \\\n",
       "0              0       0                   0                   NaN  ...   \n",
       "1              0       1                   0                   NaN  ...   \n",
       "\n",
       "   cloudcover_high  cloudcover_low  cloudcover_mid  cloudcover_total  \\\n",
       "0              NaN             NaN             NaN               NaN   \n",
       "1              NaN             NaN             NaN               NaN   \n",
       "\n",
       "   10_metre_u_wind_component  10_metre_v_wind_component  \\\n",
       "0                        NaN                        NaN   \n",
       "1                        NaN                        NaN   \n",
       "\n",
       "   direct_solar_radiation  surface_solar_radiation_downwards  snowfall  \\\n",
       "0                     NaN                                NaN       NaN   \n",
       "1                     NaN                                NaN       NaN   \n",
       "\n",
       "   total_precipitation  \n",
       "0                  NaN  \n",
       "1                  NaN  \n",
       "\n",
       "[2 rows x 26 columns]"
      ]
     },
     "execution_count": 27,
     "metadata": {},
     "output_type": "execute_result"
    }
   ],
   "source": [
    "df1 = pd.merge(df_train, df_gas_prices[['data_block_id', 'lowest_price_per_mwh', 'highest_price_per_mwh']], on='data_block_id', how='left')\n",
    "df2 = pd.merge(df1, df_client[['data_block_id', 'product_type', 'county', 'is_business', 'eic_count', 'installed_capacity']], \n",
    "           on=['data_block_id', 'product_type', 'county', 'is_business'], how='left')\n",
    "df_elec_prices['datetime'] = df_elec_prices['forecast_date'].astype('datetime64[ns]') + pd.DateOffset(1)\n",
    "df3 = pd.merge(df2, df_elec_prices[['data_block_id', 'euros_per_mwh', 'datetime']], on=['datetime', 'data_block_id'], how='left')\n",
    "wscm['longitude'] = wscm['longitude'].round(1)\n",
    "wscm['latitude'] = wscm['latitude'].round(1)\n",
    "df_forecast_weather['datetime'] = df_forecast_weather['forecast_datetime'].astype('datetime64[ns]')\n",
    "df_forecast_weather = pd.merge(df_forecast_weather, wscm[['latitude', 'longitude', 'county']], on=['latitude', 'longitude'], how='left')\n",
    "mer_feat = ['temperature', 'dewpoint', 'cloudcover_high', 'cloudcover_low',\n",
    "       'cloudcover_mid', 'cloudcover_total', '10_metre_u_wind_component',\n",
    "       '10_metre_v_wind_component',  'direct_solar_radiation', \n",
    "            'surface_solar_radiation_downwards', 'snowfall', \n",
    "            'total_precipitation', 'datetime', 'county', 'data_block_id']\n",
    "temp = df_forecast_weather[mer_feat].groupby(['datetime', 'county', 'data_block_id']).mean().reset_index()\n",
    "df4 = pd.merge(df3, temp, on=['datetime', 'county', 'data_block_id'], how='left')\n",
    "df4.head(2)"
   ]
  },
  {
   "cell_type": "code",
   "execution_count": 28,
   "metadata": {},
   "outputs": [
    {
     "data": {
      "text/html": [
       "<div>\n",
       "<style scoped>\n",
       "    .dataframe tbody tr th:only-of-type {\n",
       "        vertical-align: middle;\n",
       "    }\n",
       "\n",
       "    .dataframe tbody tr th {\n",
       "        vertical-align: top;\n",
       "    }\n",
       "\n",
       "    .dataframe thead th {\n",
       "        text-align: right;\n",
       "    }\n",
       "</style>\n",
       "<table border=\"1\" class=\"dataframe\">\n",
       "  <thead>\n",
       "    <tr style=\"text-align: right;\">\n",
       "      <th></th>\n",
       "      <th>datetime</th>\n",
       "      <th>temperature</th>\n",
       "      <th>dewpoint</th>\n",
       "      <th>rain</th>\n",
       "      <th>snowfall</th>\n",
       "      <th>surface_pressure</th>\n",
       "      <th>cloudcover_total</th>\n",
       "      <th>cloudcover_low</th>\n",
       "      <th>cloudcover_mid</th>\n",
       "      <th>cloudcover_high</th>\n",
       "      <th>windspeed_10m</th>\n",
       "      <th>winddirection_10m</th>\n",
       "      <th>shortwave_radiation</th>\n",
       "      <th>direct_solar_radiation</th>\n",
       "      <th>diffuse_radiation</th>\n",
       "      <th>latitude</th>\n",
       "      <th>longitude</th>\n",
       "      <th>data_block_id</th>\n",
       "      <th>county</th>\n",
       "    </tr>\n",
       "  </thead>\n",
       "  <tbody>\n",
       "    <tr>\n",
       "      <th>0</th>\n",
       "      <td>2021-09-02 00:00:00</td>\n",
       "      <td>14.4</td>\n",
       "      <td>12.0</td>\n",
       "      <td>0.0</td>\n",
       "      <td>0.0</td>\n",
       "      <td>1015.8</td>\n",
       "      <td>4</td>\n",
       "      <td>4</td>\n",
       "      <td>0</td>\n",
       "      <td>0</td>\n",
       "      <td>6.694444</td>\n",
       "      <td>3</td>\n",
       "      <td>0.0</td>\n",
       "      <td>0.0</td>\n",
       "      <td>0.0</td>\n",
       "      <td>57.6</td>\n",
       "      <td>21.7</td>\n",
       "      <td>1</td>\n",
       "      <td>NaN</td>\n",
       "    </tr>\n",
       "    <tr>\n",
       "      <th>1</th>\n",
       "      <td>2021-09-02 00:00:00</td>\n",
       "      <td>14.0</td>\n",
       "      <td>12.0</td>\n",
       "      <td>0.0</td>\n",
       "      <td>0.0</td>\n",
       "      <td>1010.6</td>\n",
       "      <td>7</td>\n",
       "      <td>8</td>\n",
       "      <td>0</td>\n",
       "      <td>0</td>\n",
       "      <td>4.944444</td>\n",
       "      <td>353</td>\n",
       "      <td>0.0</td>\n",
       "      <td>0.0</td>\n",
       "      <td>0.0</td>\n",
       "      <td>57.6</td>\n",
       "      <td>22.2</td>\n",
       "      <td>1</td>\n",
       "      <td>NaN</td>\n",
       "    </tr>\n",
       "    <tr>\n",
       "      <th>2</th>\n",
       "      <td>2021-09-02 00:00:00</td>\n",
       "      <td>14.4</td>\n",
       "      <td>12.8</td>\n",
       "      <td>0.0</td>\n",
       "      <td>0.0</td>\n",
       "      <td>1014.9</td>\n",
       "      <td>6</td>\n",
       "      <td>7</td>\n",
       "      <td>0</td>\n",
       "      <td>0</td>\n",
       "      <td>5.833333</td>\n",
       "      <td>348</td>\n",
       "      <td>0.0</td>\n",
       "      <td>0.0</td>\n",
       "      <td>0.0</td>\n",
       "      <td>57.6</td>\n",
       "      <td>22.7</td>\n",
       "      <td>1</td>\n",
       "      <td>NaN</td>\n",
       "    </tr>\n",
       "    <tr>\n",
       "      <th>3</th>\n",
       "      <td>2021-09-02 00:00:00</td>\n",
       "      <td>15.4</td>\n",
       "      <td>13.0</td>\n",
       "      <td>0.0</td>\n",
       "      <td>0.0</td>\n",
       "      <td>1014.4</td>\n",
       "      <td>4</td>\n",
       "      <td>2</td>\n",
       "      <td>4</td>\n",
       "      <td>0</td>\n",
       "      <td>7.111111</td>\n",
       "      <td>349</td>\n",
       "      <td>0.0</td>\n",
       "      <td>0.0</td>\n",
       "      <td>0.0</td>\n",
       "      <td>57.6</td>\n",
       "      <td>23.2</td>\n",
       "      <td>1</td>\n",
       "      <td>NaN</td>\n",
       "    </tr>\n",
       "    <tr>\n",
       "      <th>4</th>\n",
       "      <td>2021-09-02 00:00:00</td>\n",
       "      <td>15.9</td>\n",
       "      <td>12.6</td>\n",
       "      <td>0.0</td>\n",
       "      <td>0.0</td>\n",
       "      <td>1013.8</td>\n",
       "      <td>12</td>\n",
       "      <td>7</td>\n",
       "      <td>0</td>\n",
       "      <td>20</td>\n",
       "      <td>8.388889</td>\n",
       "      <td>360</td>\n",
       "      <td>0.0</td>\n",
       "      <td>0.0</td>\n",
       "      <td>0.0</td>\n",
       "      <td>57.6</td>\n",
       "      <td>23.7</td>\n",
       "      <td>1</td>\n",
       "      <td>NaN</td>\n",
       "    </tr>\n",
       "    <tr>\n",
       "      <th>...</th>\n",
       "      <td>...</td>\n",
       "      <td>...</td>\n",
       "      <td>...</td>\n",
       "      <td>...</td>\n",
       "      <td>...</td>\n",
       "      <td>...</td>\n",
       "      <td>...</td>\n",
       "      <td>...</td>\n",
       "      <td>...</td>\n",
       "      <td>...</td>\n",
       "      <td>...</td>\n",
       "      <td>...</td>\n",
       "      <td>...</td>\n",
       "      <td>...</td>\n",
       "      <td>...</td>\n",
       "      <td>...</td>\n",
       "      <td>...</td>\n",
       "      <td>...</td>\n",
       "      <td>...</td>\n",
       "    </tr>\n",
       "    <tr>\n",
       "      <th>1710795</th>\n",
       "      <td>2023-05-31 10:00:00</td>\n",
       "      <td>10.8</td>\n",
       "      <td>4.1</td>\n",
       "      <td>0.4</td>\n",
       "      <td>0.0</td>\n",
       "      <td>1018.7</td>\n",
       "      <td>40</td>\n",
       "      <td>0</td>\n",
       "      <td>67</td>\n",
       "      <td>0</td>\n",
       "      <td>1.333333</td>\n",
       "      <td>283</td>\n",
       "      <td>440.0</td>\n",
       "      <td>264.0</td>\n",
       "      <td>176.0</td>\n",
       "      <td>59.7</td>\n",
       "      <td>26.2</td>\n",
       "      <td>637</td>\n",
       "      <td>NaN</td>\n",
       "    </tr>\n",
       "    <tr>\n",
       "      <th>1710796</th>\n",
       "      <td>2023-05-31 10:00:00</td>\n",
       "      <td>11.4</td>\n",
       "      <td>2.9</td>\n",
       "      <td>0.3</td>\n",
       "      <td>0.0</td>\n",
       "      <td>1018.8</td>\n",
       "      <td>41</td>\n",
       "      <td>0</td>\n",
       "      <td>69</td>\n",
       "      <td>0</td>\n",
       "      <td>1.527778</td>\n",
       "      <td>302</td>\n",
       "      <td>453.0</td>\n",
       "      <td>283.0</td>\n",
       "      <td>170.0</td>\n",
       "      <td>59.7</td>\n",
       "      <td>26.7</td>\n",
       "      <td>637</td>\n",
       "      <td>NaN</td>\n",
       "    </tr>\n",
       "    <tr>\n",
       "      <th>1710797</th>\n",
       "      <td>2023-05-31 10:00:00</td>\n",
       "      <td>9.5</td>\n",
       "      <td>3.2</td>\n",
       "      <td>0.1</td>\n",
       "      <td>0.0</td>\n",
       "      <td>1018.9</td>\n",
       "      <td>47</td>\n",
       "      <td>0</td>\n",
       "      <td>79</td>\n",
       "      <td>0</td>\n",
       "      <td>3.416667</td>\n",
       "      <td>302</td>\n",
       "      <td>477.0</td>\n",
       "      <td>312.0</td>\n",
       "      <td>165.0</td>\n",
       "      <td>59.7</td>\n",
       "      <td>27.2</td>\n",
       "      <td>637</td>\n",
       "      <td>NaN</td>\n",
       "    </tr>\n",
       "    <tr>\n",
       "      <th>1710798</th>\n",
       "      <td>2023-05-31 10:00:00</td>\n",
       "      <td>11.0</td>\n",
       "      <td>1.6</td>\n",
       "      <td>0.0</td>\n",
       "      <td>0.0</td>\n",
       "      <td>1018.6</td>\n",
       "      <td>31</td>\n",
       "      <td>0</td>\n",
       "      <td>52</td>\n",
       "      <td>0</td>\n",
       "      <td>3.472222</td>\n",
       "      <td>309</td>\n",
       "      <td>535.0</td>\n",
       "      <td>400.0</td>\n",
       "      <td>135.0</td>\n",
       "      <td>59.7</td>\n",
       "      <td>27.7</td>\n",
       "      <td>637</td>\n",
       "      <td>NaN</td>\n",
       "    </tr>\n",
       "    <tr>\n",
       "      <th>1710799</th>\n",
       "      <td>2023-05-31 10:00:00</td>\n",
       "      <td>11.5</td>\n",
       "      <td>1.3</td>\n",
       "      <td>0.0</td>\n",
       "      <td>0.0</td>\n",
       "      <td>1015.8</td>\n",
       "      <td>25</td>\n",
       "      <td>0</td>\n",
       "      <td>42</td>\n",
       "      <td>0</td>\n",
       "      <td>3.166667</td>\n",
       "      <td>305</td>\n",
       "      <td>550.0</td>\n",
       "      <td>420.0</td>\n",
       "      <td>130.0</td>\n",
       "      <td>59.7</td>\n",
       "      <td>28.2</td>\n",
       "      <td>637</td>\n",
       "      <td>NaN</td>\n",
       "    </tr>\n",
       "  </tbody>\n",
       "</table>\n",
       "<p>1710800 rows × 19 columns</p>\n",
       "</div>"
      ],
      "text/plain": [
       "                   datetime  temperature  dewpoint  rain  snowfall  \\\n",
       "0       2021-09-02 00:00:00         14.4      12.0   0.0       0.0   \n",
       "1       2021-09-02 00:00:00         14.0      12.0   0.0       0.0   \n",
       "2       2021-09-02 00:00:00         14.4      12.8   0.0       0.0   \n",
       "3       2021-09-02 00:00:00         15.4      13.0   0.0       0.0   \n",
       "4       2021-09-02 00:00:00         15.9      12.6   0.0       0.0   \n",
       "...                     ...          ...       ...   ...       ...   \n",
       "1710795 2023-05-31 10:00:00         10.8       4.1   0.4       0.0   \n",
       "1710796 2023-05-31 10:00:00         11.4       2.9   0.3       0.0   \n",
       "1710797 2023-05-31 10:00:00          9.5       3.2   0.1       0.0   \n",
       "1710798 2023-05-31 10:00:00         11.0       1.6   0.0       0.0   \n",
       "1710799 2023-05-31 10:00:00         11.5       1.3   0.0       0.0   \n",
       "\n",
       "         surface_pressure  cloudcover_total  cloudcover_low  cloudcover_mid  \\\n",
       "0                  1015.8                 4               4               0   \n",
       "1                  1010.6                 7               8               0   \n",
       "2                  1014.9                 6               7               0   \n",
       "3                  1014.4                 4               2               4   \n",
       "4                  1013.8                12               7               0   \n",
       "...                   ...               ...             ...             ...   \n",
       "1710795            1018.7                40               0              67   \n",
       "1710796            1018.8                41               0              69   \n",
       "1710797            1018.9                47               0              79   \n",
       "1710798            1018.6                31               0              52   \n",
       "1710799            1015.8                25               0              42   \n",
       "\n",
       "         cloudcover_high  windspeed_10m  winddirection_10m  \\\n",
       "0                      0       6.694444                  3   \n",
       "1                      0       4.944444                353   \n",
       "2                      0       5.833333                348   \n",
       "3                      0       7.111111                349   \n",
       "4                     20       8.388889                360   \n",
       "...                  ...            ...                ...   \n",
       "1710795                0       1.333333                283   \n",
       "1710796                0       1.527778                302   \n",
       "1710797                0       3.416667                302   \n",
       "1710798                0       3.472222                309   \n",
       "1710799                0       3.166667                305   \n",
       "\n",
       "         shortwave_radiation  direct_solar_radiation  diffuse_radiation  \\\n",
       "0                        0.0                     0.0                0.0   \n",
       "1                        0.0                     0.0                0.0   \n",
       "2                        0.0                     0.0                0.0   \n",
       "3                        0.0                     0.0                0.0   \n",
       "4                        0.0                     0.0                0.0   \n",
       "...                      ...                     ...                ...   \n",
       "1710795                440.0                   264.0              176.0   \n",
       "1710796                453.0                   283.0              170.0   \n",
       "1710797                477.0                   312.0              165.0   \n",
       "1710798                535.0                   400.0              135.0   \n",
       "1710799                550.0                   420.0              130.0   \n",
       "\n",
       "         latitude  longitude  data_block_id  county  \n",
       "0            57.6       21.7              1     NaN  \n",
       "1            57.6       22.2              1     NaN  \n",
       "2            57.6       22.7              1     NaN  \n",
       "3            57.6       23.2              1     NaN  \n",
       "4            57.6       23.7              1     NaN  \n",
       "...           ...        ...            ...     ...  \n",
       "1710795      59.7       26.2            637     NaN  \n",
       "1710796      59.7       26.7            637     NaN  \n",
       "1710797      59.7       27.2            637     NaN  \n",
       "1710798      59.7       27.7            637     NaN  \n",
       "1710799      59.7       28.2            637     NaN  \n",
       "\n",
       "[1710800 rows x 19 columns]"
      ]
     },
     "execution_count": 28,
     "metadata": {},
     "output_type": "execute_result"
    }
   ],
   "source": [
    "df_historical_weather['datetime'] = df_historical_weather['datetime'].astype('datetime64[ns]')\n",
    "df_historical_weather['datetime'] = df_historical_weather['datetime'].apply(lambda x: \n",
    "                                                      x + pd.DateOffset(1) if x.hour < 11 else x + pd.DateOffset(2))\n",
    "df_historical_weather = pd.merge(df_historical_weather, wscm[['latitude', 'longitude', 'county']], on=['latitude', 'longitude'], how='left')\n",
    "df_historical_weather.head(2)"
   ]
  },
  {
   "cell_type": "code",
   "execution_count": 30,
   "metadata": {},
   "outputs": [
    {
     "data": {
      "text/html": [
       "<div>\n",
       "<style scoped>\n",
       "    .dataframe tbody tr th:only-of-type {\n",
       "        vertical-align: middle;\n",
       "    }\n",
       "\n",
       "    .dataframe tbody tr th {\n",
       "        vertical-align: top;\n",
       "    }\n",
       "\n",
       "    .dataframe thead th {\n",
       "        text-align: right;\n",
       "    }\n",
       "</style>\n",
       "<table border=\"1\" class=\"dataframe\">\n",
       "  <thead>\n",
       "    <tr style=\"text-align: right;\">\n",
       "      <th></th>\n",
       "      <th>county</th>\n",
       "      <th>is_business</th>\n",
       "      <th>product_type</th>\n",
       "      <th>target</th>\n",
       "      <th>is_consumption</th>\n",
       "      <th>datetime</th>\n",
       "      <th>data_block_id</th>\n",
       "      <th>row_id</th>\n",
       "      <th>prediction_unit_id</th>\n",
       "      <th>lowest_price_per_mwh</th>\n",
       "      <th>...</th>\n",
       "      <th>cloudcover_high</th>\n",
       "      <th>cloudcover_low</th>\n",
       "      <th>cloudcover_mid</th>\n",
       "      <th>cloudcover_total</th>\n",
       "      <th>10_metre_u_wind_component</th>\n",
       "      <th>10_metre_v_wind_component</th>\n",
       "      <th>direct_solar_radiation</th>\n",
       "      <th>surface_solar_radiation_downwards</th>\n",
       "      <th>snowfall</th>\n",
       "      <th>total_precipitation</th>\n",
       "    </tr>\n",
       "  </thead>\n",
       "  <tbody>\n",
       "    <tr>\n",
       "      <th>0</th>\n",
       "      <td>0</td>\n",
       "      <td>0</td>\n",
       "      <td>1</td>\n",
       "      <td>0.713</td>\n",
       "      <td>0</td>\n",
       "      <td>2021-09-01</td>\n",
       "      <td>0</td>\n",
       "      <td>0</td>\n",
       "      <td>0</td>\n",
       "      <td>NaN</td>\n",
       "      <td>...</td>\n",
       "      <td>NaN</td>\n",
       "      <td>NaN</td>\n",
       "      <td>NaN</td>\n",
       "      <td>NaN</td>\n",
       "      <td>NaN</td>\n",
       "      <td>NaN</td>\n",
       "      <td>NaN</td>\n",
       "      <td>NaN</td>\n",
       "      <td>NaN</td>\n",
       "      <td>NaN</td>\n",
       "    </tr>\n",
       "    <tr>\n",
       "      <th>1</th>\n",
       "      <td>0</td>\n",
       "      <td>0</td>\n",
       "      <td>1</td>\n",
       "      <td>96.590</td>\n",
       "      <td>1</td>\n",
       "      <td>2021-09-01</td>\n",
       "      <td>0</td>\n",
       "      <td>1</td>\n",
       "      <td>0</td>\n",
       "      <td>NaN</td>\n",
       "      <td>...</td>\n",
       "      <td>NaN</td>\n",
       "      <td>NaN</td>\n",
       "      <td>NaN</td>\n",
       "      <td>NaN</td>\n",
       "      <td>NaN</td>\n",
       "      <td>NaN</td>\n",
       "      <td>NaN</td>\n",
       "      <td>NaN</td>\n",
       "      <td>NaN</td>\n",
       "      <td>NaN</td>\n",
       "    </tr>\n",
       "  </tbody>\n",
       "</table>\n",
       "<p>2 rows × 26 columns</p>\n",
       "</div>"
      ],
      "text/plain": [
       "   county  is_business  product_type  target  is_consumption   datetime  \\\n",
       "0       0            0             1   0.713               0 2021-09-01   \n",
       "1       0            0             1  96.590               1 2021-09-01   \n",
       "\n",
       "   data_block_id  row_id  prediction_unit_id  lowest_price_per_mwh  ...  \\\n",
       "0              0       0                   0                   NaN  ...   \n",
       "1              0       1                   0                   NaN  ...   \n",
       "\n",
       "   cloudcover_high  cloudcover_low  cloudcover_mid  cloudcover_total  \\\n",
       "0              NaN             NaN             NaN               NaN   \n",
       "1              NaN             NaN             NaN               NaN   \n",
       "\n",
       "   10_metre_u_wind_component  10_metre_v_wind_component  \\\n",
       "0                        NaN                        NaN   \n",
       "1                        NaN                        NaN   \n",
       "\n",
       "   direct_solar_radiation  surface_solar_radiation_downwards  snowfall  \\\n",
       "0                     NaN                                NaN       NaN   \n",
       "1                     NaN                                NaN       NaN   \n",
       "\n",
       "   total_precipitation  \n",
       "0                  NaN  \n",
       "1                  NaN  \n",
       "\n",
       "[2 rows x 26 columns]"
      ]
     },
     "execution_count": 30,
     "metadata": {},
     "output_type": "execute_result"
    }
   ],
   "source": [
    "df4.head(2)"
   ]
  },
  {
   "cell_type": "code",
   "execution_count": 31,
   "metadata": {},
   "outputs": [
    {
     "data": {
      "text/html": [
       "<div>\n",
       "<style scoped>\n",
       "    .dataframe tbody tr th:only-of-type {\n",
       "        vertical-align: middle;\n",
       "    }\n",
       "\n",
       "    .dataframe tbody tr th {\n",
       "        vertical-align: top;\n",
       "    }\n",
       "\n",
       "    .dataframe thead th {\n",
       "        text-align: right;\n",
       "    }\n",
       "</style>\n",
       "<table border=\"1\" class=\"dataframe\">\n",
       "  <thead>\n",
       "    <tr style=\"text-align: right;\">\n",
       "      <th></th>\n",
       "      <th>datetime</th>\n",
       "      <th>temperature_h</th>\n",
       "      <th>dewpoint_h</th>\n",
       "      <th>rain_h</th>\n",
       "      <th>snowfall_h</th>\n",
       "      <th>surface_pressure_h</th>\n",
       "      <th>cloudcover_total_h</th>\n",
       "      <th>cloudcover_low_h</th>\n",
       "      <th>cloudcover_mid_h</th>\n",
       "      <th>cloudcover_high_h</th>\n",
       "      <th>windspeed_10m_h</th>\n",
       "      <th>winddirection_10m_h</th>\n",
       "      <th>shortwave_radiation_h</th>\n",
       "      <th>direct_solar_radiation_h</th>\n",
       "      <th>diffuse_radiation_h</th>\n",
       "      <th>latitude</th>\n",
       "      <th>longitude</th>\n",
       "      <th>data_block_id</th>\n",
       "      <th>county</th>\n",
       "    </tr>\n",
       "  </thead>\n",
       "  <tbody>\n",
       "    <tr>\n",
       "      <th>0</th>\n",
       "      <td>2021-09-02</td>\n",
       "      <td>14.4</td>\n",
       "      <td>12.0</td>\n",
       "      <td>0.0</td>\n",
       "      <td>0.0</td>\n",
       "      <td>1015.8</td>\n",
       "      <td>4</td>\n",
       "      <td>4</td>\n",
       "      <td>0</td>\n",
       "      <td>0</td>\n",
       "      <td>6.694444</td>\n",
       "      <td>3</td>\n",
       "      <td>0.0</td>\n",
       "      <td>0.0</td>\n",
       "      <td>0.0</td>\n",
       "      <td>57.6</td>\n",
       "      <td>21.7</td>\n",
       "      <td>1</td>\n",
       "      <td>NaN</td>\n",
       "    </tr>\n",
       "  </tbody>\n",
       "</table>\n",
       "</div>"
      ],
      "text/plain": [
       "    datetime  temperature_h  dewpoint_h  rain_h  snowfall_h  \\\n",
       "0 2021-09-02           14.4        12.0     0.0         0.0   \n",
       "\n",
       "   surface_pressure_h  cloudcover_total_h  cloudcover_low_h  cloudcover_mid_h  \\\n",
       "0              1015.8                   4                 4                 0   \n",
       "\n",
       "   cloudcover_high_h  windspeed_10m_h  winddirection_10m_h  \\\n",
       "0                  0         6.694444                    3   \n",
       "\n",
       "   shortwave_radiation_h  direct_solar_radiation_h  diffuse_radiation_h  \\\n",
       "0                    0.0                       0.0                  0.0   \n",
       "\n",
       "   latitude  longitude  data_block_id  county  \n",
       "0      57.6       21.7              1     NaN  "
      ]
     },
     "execution_count": 31,
     "metadata": {},
     "output_type": "execute_result"
    }
   ],
   "source": [
    "feat=['temperature', 'dewpoint', 'rain', 'snowfall',\n",
    "       'surface_pressure', 'cloudcover_total', 'cloudcover_low',\n",
    "       'cloudcover_mid', 'cloudcover_high', 'windspeed_10m',\n",
    "       'winddirection_10m', 'shortwave_radiation', 'direct_solar_radiation',\n",
    "       'diffuse_radiation']\n",
    "feat_h = [\"%s_h\"%i for i in feat]\n",
    "feat_dict = dict(zip(feat, feat_h))\n",
    "df_historical_weather = df_historical_weather.rename(columns=feat_dict)\n",
    "df_historical_weather.head(1)"
   ]
  },
  {
   "cell_type": "code",
   "execution_count": 32,
   "metadata": {},
   "outputs": [],
   "source": [
    "mer_feat = feat_h + ['datetime', 'county', 'data_block_id']\n",
    "temp = df_historical_weather[mer_feat].groupby(['datetime', 'county', 'data_block_id']).mean().reset_index()\n",
    "df5 = pd.merge(df4, temp, on=['datetime', 'county', 'data_block_id'], how='left')"
   ]
  },
  {
   "cell_type": "code",
   "execution_count": 34,
   "metadata": {},
   "outputs": [],
   "source": [
    "df = df5.copy().drop(['row_id', 'prediction_unit_id'], axis=1)\n",
    "df.to_csv('../../EnefitBigData/merge.csv')"
   ]
  },
  {
   "cell_type": "code",
   "execution_count": 36,
   "metadata": {},
   "outputs": [
    {
     "data": {
      "text/html": [
       "<div>\n",
       "<style scoped>\n",
       "    .dataframe tbody tr th:only-of-type {\n",
       "        vertical-align: middle;\n",
       "    }\n",
       "\n",
       "    .dataframe tbody tr th {\n",
       "        vertical-align: top;\n",
       "    }\n",
       "\n",
       "    .dataframe thead th {\n",
       "        text-align: right;\n",
       "    }\n",
       "</style>\n",
       "<table border=\"1\" class=\"dataframe\">\n",
       "  <thead>\n",
       "    <tr style=\"text-align: right;\">\n",
       "      <th></th>\n",
       "      <th>county</th>\n",
       "      <th>is_business</th>\n",
       "      <th>product_type</th>\n",
       "      <th>target</th>\n",
       "      <th>is_consumption</th>\n",
       "      <th>datetime</th>\n",
       "      <th>data_block_id</th>\n",
       "      <th>lowest_price_per_mwh</th>\n",
       "      <th>highest_price_per_mwh</th>\n",
       "      <th>eic_count</th>\n",
       "      <th>...</th>\n",
       "      <th>surface_pressure_h</th>\n",
       "      <th>cloudcover_total_h</th>\n",
       "      <th>cloudcover_low_h</th>\n",
       "      <th>cloudcover_mid_h</th>\n",
       "      <th>cloudcover_high_h</th>\n",
       "      <th>windspeed_10m_h</th>\n",
       "      <th>winddirection_10m_h</th>\n",
       "      <th>shortwave_radiation_h</th>\n",
       "      <th>direct_solar_radiation_h</th>\n",
       "      <th>diffuse_radiation_h</th>\n",
       "    </tr>\n",
       "  </thead>\n",
       "  <tbody>\n",
       "    <tr>\n",
       "      <th>0</th>\n",
       "      <td>0</td>\n",
       "      <td>0</td>\n",
       "      <td>1</td>\n",
       "      <td>0.713</td>\n",
       "      <td>0</td>\n",
       "      <td>2021-09-01</td>\n",
       "      <td>0</td>\n",
       "      <td>NaN</td>\n",
       "      <td>NaN</td>\n",
       "      <td>NaN</td>\n",
       "      <td>...</td>\n",
       "      <td>NaN</td>\n",
       "      <td>NaN</td>\n",
       "      <td>NaN</td>\n",
       "      <td>NaN</td>\n",
       "      <td>NaN</td>\n",
       "      <td>NaN</td>\n",
       "      <td>NaN</td>\n",
       "      <td>NaN</td>\n",
       "      <td>NaN</td>\n",
       "      <td>NaN</td>\n",
       "    </tr>\n",
       "    <tr>\n",
       "      <th>1</th>\n",
       "      <td>0</td>\n",
       "      <td>0</td>\n",
       "      <td>1</td>\n",
       "      <td>96.590</td>\n",
       "      <td>1</td>\n",
       "      <td>2021-09-01</td>\n",
       "      <td>0</td>\n",
       "      <td>NaN</td>\n",
       "      <td>NaN</td>\n",
       "      <td>NaN</td>\n",
       "      <td>...</td>\n",
       "      <td>NaN</td>\n",
       "      <td>NaN</td>\n",
       "      <td>NaN</td>\n",
       "      <td>NaN</td>\n",
       "      <td>NaN</td>\n",
       "      <td>NaN</td>\n",
       "      <td>NaN</td>\n",
       "      <td>NaN</td>\n",
       "      <td>NaN</td>\n",
       "      <td>NaN</td>\n",
       "    </tr>\n",
       "    <tr>\n",
       "      <th>2</th>\n",
       "      <td>0</td>\n",
       "      <td>0</td>\n",
       "      <td>2</td>\n",
       "      <td>0.000</td>\n",
       "      <td>0</td>\n",
       "      <td>2021-09-01</td>\n",
       "      <td>0</td>\n",
       "      <td>NaN</td>\n",
       "      <td>NaN</td>\n",
       "      <td>NaN</td>\n",
       "      <td>...</td>\n",
       "      <td>NaN</td>\n",
       "      <td>NaN</td>\n",
       "      <td>NaN</td>\n",
       "      <td>NaN</td>\n",
       "      <td>NaN</td>\n",
       "      <td>NaN</td>\n",
       "      <td>NaN</td>\n",
       "      <td>NaN</td>\n",
       "      <td>NaN</td>\n",
       "      <td>NaN</td>\n",
       "    </tr>\n",
       "    <tr>\n",
       "      <th>3</th>\n",
       "      <td>0</td>\n",
       "      <td>0</td>\n",
       "      <td>2</td>\n",
       "      <td>17.314</td>\n",
       "      <td>1</td>\n",
       "      <td>2021-09-01</td>\n",
       "      <td>0</td>\n",
       "      <td>NaN</td>\n",
       "      <td>NaN</td>\n",
       "      <td>NaN</td>\n",
       "      <td>...</td>\n",
       "      <td>NaN</td>\n",
       "      <td>NaN</td>\n",
       "      <td>NaN</td>\n",
       "      <td>NaN</td>\n",
       "      <td>NaN</td>\n",
       "      <td>NaN</td>\n",
       "      <td>NaN</td>\n",
       "      <td>NaN</td>\n",
       "      <td>NaN</td>\n",
       "      <td>NaN</td>\n",
       "    </tr>\n",
       "    <tr>\n",
       "      <th>4</th>\n",
       "      <td>0</td>\n",
       "      <td>0</td>\n",
       "      <td>3</td>\n",
       "      <td>2.904</td>\n",
       "      <td>0</td>\n",
       "      <td>2021-09-01</td>\n",
       "      <td>0</td>\n",
       "      <td>NaN</td>\n",
       "      <td>NaN</td>\n",
       "      <td>NaN</td>\n",
       "      <td>...</td>\n",
       "      <td>NaN</td>\n",
       "      <td>NaN</td>\n",
       "      <td>NaN</td>\n",
       "      <td>NaN</td>\n",
       "      <td>NaN</td>\n",
       "      <td>NaN</td>\n",
       "      <td>NaN</td>\n",
       "      <td>NaN</td>\n",
       "      <td>NaN</td>\n",
       "      <td>NaN</td>\n",
       "    </tr>\n",
       "  </tbody>\n",
       "</table>\n",
       "<p>5 rows × 38 columns</p>\n",
       "</div>"
      ],
      "text/plain": [
       "   county  is_business  product_type  target  is_consumption   datetime  \\\n",
       "0       0            0             1   0.713               0 2021-09-01   \n",
       "1       0            0             1  96.590               1 2021-09-01   \n",
       "2       0            0             2   0.000               0 2021-09-01   \n",
       "3       0            0             2  17.314               1 2021-09-01   \n",
       "4       0            0             3   2.904               0 2021-09-01   \n",
       "\n",
       "   data_block_id  lowest_price_per_mwh  highest_price_per_mwh  eic_count  ...  \\\n",
       "0              0                   NaN                    NaN        NaN  ...   \n",
       "1              0                   NaN                    NaN        NaN  ...   \n",
       "2              0                   NaN                    NaN        NaN  ...   \n",
       "3              0                   NaN                    NaN        NaN  ...   \n",
       "4              0                   NaN                    NaN        NaN  ...   \n",
       "\n",
       "   surface_pressure_h  cloudcover_total_h  cloudcover_low_h  cloudcover_mid_h  \\\n",
       "0                 NaN                 NaN               NaN               NaN   \n",
       "1                 NaN                 NaN               NaN               NaN   \n",
       "2                 NaN                 NaN               NaN               NaN   \n",
       "3                 NaN                 NaN               NaN               NaN   \n",
       "4                 NaN                 NaN               NaN               NaN   \n",
       "\n",
       "   cloudcover_high_h  windspeed_10m_h  winddirection_10m_h  \\\n",
       "0                NaN              NaN                  NaN   \n",
       "1                NaN              NaN                  NaN   \n",
       "2                NaN              NaN                  NaN   \n",
       "3                NaN              NaN                  NaN   \n",
       "4                NaN              NaN                  NaN   \n",
       "\n",
       "   shortwave_radiation_h  direct_solar_radiation_h  diffuse_radiation_h  \n",
       "0                    NaN                       NaN                  NaN  \n",
       "1                    NaN                       NaN                  NaN  \n",
       "2                    NaN                       NaN                  NaN  \n",
       "3                    NaN                       NaN                  NaN  \n",
       "4                    NaN                       NaN                  NaN  \n",
       "\n",
       "[5 rows x 38 columns]"
      ]
     },
     "execution_count": 36,
     "metadata": {},
     "output_type": "execute_result"
    }
   ],
   "source": [
    "df.head(5)"
   ]
  },
  {
   "cell_type": "code",
   "execution_count": 38,
   "metadata": {},
   "outputs": [
    {
     "data": {
      "text/plain": [
       "274.8555600988986"
      ]
     },
     "execution_count": 38,
     "metadata": {},
     "output_type": "execute_result"
    }
   ],
   "source": [
    "df['target'].mean()"
   ]
  },
  {
   "cell_type": "code",
   "execution_count": null,
   "metadata": {},
   "outputs": [],
   "source": []
  }
 ],
 "metadata": {
  "kernelspec": {
   "display_name": "Python 3",
   "language": "python",
   "name": "python3"
  },
  "language_info": {
   "codemirror_mode": {
    "name": "ipython",
    "version": 3
   },
   "file_extension": ".py",
   "mimetype": "text/x-python",
   "name": "python",
   "nbconvert_exporter": "python",
   "pygments_lexer": "ipython3",
   "version": "3.10.4"
  }
 },
 "nbformat": 4,
 "nbformat_minor": 2
}
