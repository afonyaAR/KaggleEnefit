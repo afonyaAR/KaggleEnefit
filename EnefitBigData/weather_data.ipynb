{
 "cells": [
  {
   "cell_type": "code",
   "execution_count": 59,
   "metadata": {},
   "outputs": [],
   "source": [
    "import pandas as pd\n",
    "import numpy as np"
   ]
  },
  {
   "cell_type": "code",
   "execution_count": 2,
   "metadata": {},
   "outputs": [],
   "source": [
    "historical_weather = pd.read_csv(\"historical_weather.csv\")\n",
    "def get_parameter(name):\n",
    "    data = historical_weather.groupby(['longitude', 'latitude'])[name].mean()\n",
    "    pd.DataFrame(data).to_csv(name + '.csv')"
   ]
  },
  {
   "cell_type": "code",
   "execution_count": 44,
   "metadata": {},
   "outputs": [
    {
     "data": {
      "text/plain": [
       "12"
      ]
     },
     "execution_count": 44,
     "metadata": {},
     "output_type": "execute_result"
    }
   ],
   "source": [
    "historical_weather[\"datetime\"] = pd.to_datetime(historical_weather[\"datetime\"])\n",
    "data = pd.DataFrame(historical_weather.groupby(pd.Grouper(key='datetime', freq='M')))\n",
    "winter = list()\n",
    "spring = list()\n",
    "summer = list()\n",
    "autumn = list()\n",
    "for i in range(len(data[0])):\n",
    "    if data[0][i].month == 1 or data[0][i].month == 2 or data[0][i].month == 12:\n",
    "        winter.append(data.loc[i])\n",
    "    elif data[0][i].month == 3 or data[0][i].month == 4 or data[0][i].month == 5:\n",
    "        spring.append(data.loc[i])\n",
    "    elif data[0][i].month == 6 or data[0][i].month == 7 or data[0][i].month == 8:\n",
    "        summer.append(data.loc[i])\n",
    "    elif data[0][i].month == 9 or data[0][i].month == 10 or data[0][i].month == 11:\n",
    "        autumn.append(data.loc[i])\n",
    "        \n",
    "        "
   ]
  },
  {
   "cell_type": "code",
   "execution_count": 63,
   "metadata": {},
   "outputs": [],
   "source": [
    "winterData = pd.concat([elem[1] for elem in winter]).groupby(['longitude', 'latitude'])['temperature'].mean()\n",
    "springData = pd.concat([elem[1] for elem in spring]).groupby(['longitude', 'latitude'])['temperature'].mean()\n",
    "summerData = pd.concat([elem[1] for elem in summer]).groupby(['longitude', 'latitude'])['temperature'].mean()\n",
    "autumnData = pd.concat([elem[1] for elem in autumn]).groupby(['longitude', 'latitude'])['temperature'].mean()\n"
   ]
  },
  {
   "cell_type": "code",
   "execution_count": 66,
   "metadata": {},
   "outputs": [],
   "source": [
    "winterData.to_csv('winter_temperature.csv')\n",
    "springData.to_csv('spring_temperature.csv')\n",
    "summerData.to_csv('summer_temperature.csv')\n",
    "autumnData.to_csv('autumn_temperature.csv')"
   ]
  }
 ],
 "metadata": {
  "kernelspec": {
   "display_name": "Python 3",
   "language": "python",
   "name": "python3"
  },
  "language_info": {
   "codemirror_mode": {
    "name": "ipython",
    "version": 3
   },
   "file_extension": ".py",
   "mimetype": "text/x-python",
   "name": "python",
   "nbconvert_exporter": "python",
   "pygments_lexer": "ipython3",
   "version": "3.10.4"
  }
 },
 "nbformat": 4,
 "nbformat_minor": 2
}
