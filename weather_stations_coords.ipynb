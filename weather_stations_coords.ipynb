{
 "cells": [
  {
   "cell_type": "code",
   "execution_count": 2,
   "metadata": {},
   "outputs": [],
   "source": [
    "import pandas as pd"
   ]
  },
  {
   "cell_type": "code",
   "execution_count": 3,
   "metadata": {},
   "outputs": [],
   "source": [
    "df = pd.read_csv(\"EnefitApi/weather_station_to_county_mapping.csv\")\n",
    "names = pd.read_json('EnefitAPI/county_id_to_name_map.json', lines=True).values[0]\n",
    "\n",
    "for i in range(len(df)):\n",
    "    if str(df.loc[i, \"county_name\"]).upper() not in names:\n",
    "        df = df.drop(index=i)\n",
    "        \n",
    "df\n",
    "df[[\"latitude\", \"longitude\"]].set_index(\"latitude\").to_csv(\"data_for_mathematica/weather_stations_coords.csv\")"
   ]
  }
 ],
 "metadata": {
  "kernelspec": {
   "display_name": "Python 3",
   "language": "python",
   "name": "python3"
  },
  "language_info": {
   "codemirror_mode": {
    "name": "ipython",
    "version": 3
   },
   "file_extension": ".py",
   "mimetype": "text/x-python",
   "name": "python",
   "nbconvert_exporter": "python",
   "pygments_lexer": "ipython3",
   "version": "3.10.4"
  }
 },
 "nbformat": 4,
 "nbformat_minor": 2
}
